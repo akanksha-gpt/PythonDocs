{
 "cells": [
  {
   "cell_type": "code",
   "execution_count": 1,
   "metadata": {},
   "outputs": [],
   "source": [
    "# Introduction to Python Classes"
   ]
  },
  {
   "cell_type": "code",
   "execution_count": 2,
   "metadata": {},
   "outputs": [],
   "source": [
    "# Terms : Class, Method, Attribute, Self, Object\n",
    "# Class : Class is a high level blue print of a program composition\n",
    "# Method : A function written inside a class\n",
    "# Attribute : A variable written inside a class\n",
    "# Self : A self is a temporary place holder for an object\n",
    "# Object : An object is an entry point to a class method"
   ]
  },
  {
   "cell_type": "code",
   "execution_count": 3,
   "metadata": {},
   "outputs": [],
   "source": [
    "# class keyword is used to define a class\n",
    "# Always use titlecase for creating classname"
   ]
  },
  {
   "cell_type": "code",
   "execution_count": 4,
   "metadata": {},
   "outputs": [],
   "source": [
    "# Req1 : Create a user class having 3 methods : createname, displayname, greetname"
   ]
  },
  {
   "cell_type": "code",
   "execution_count": 10,
   "metadata": {},
   "outputs": [],
   "source": [
    "class Userclass:                                        # use titlecase for creating class name\n",
    "    \"\"\"creating a user for display and greeting\"\"\"      # doc-string\n",
    "    def createname(self,name):                          # method declaration\n",
    "        self.name=name                                  # attribute\n",
    "    def displayname(self):                              # method\n",
    "        print(self.name.title())\n",
    "    def greetname(self):                                # method\n",
    "        print(f\"Hello, {self.name}!\")"
   ]
  },
  {
   "cell_type": "code",
   "execution_count": 11,
   "metadata": {},
   "outputs": [
    {
     "name": "stdout",
     "output_type": "stream",
     "text": [
      "Akanksha\n"
     ]
    }
   ],
   "source": [
    "# Assigning an object to a class\n",
    "xobj = Userclass()                                      # object assignment\n",
    "xobj.createname('akanksha')\n",
    "xobj.displayname()"
   ]
  },
  {
   "cell_type": "code",
   "execution_count": 12,
   "metadata": {},
   "outputs": [
    {
     "name": "stdout",
     "output_type": "stream",
     "text": [
      "Hello, akanksha!\n"
     ]
    }
   ],
   "source": [
    "xobj.greetname()"
   ]
  },
  {
   "cell_type": "code",
   "execution_count": 20,
   "metadata": {},
   "outputs": [],
   "source": [
    "# Whenever we create a class, we need to give self as a parameter to all the methods, otherwise the program will give error\n",
    "class Userclass1:                                        # use titlecase for creating class name\n",
    "    \"\"\"creating a user for display and greeting\"\"\"       # doc-string\n",
    "    def createname(name):                                # method declaration # self removed\n",
    "        name=name                                        # attribute\n",
    "    def displayname():                                   # method\n",
    "        print(name.title())\n",
    "    def greetname():                                     # method\n",
    "        print(f\"Hello, {name}!\")"
   ]
  },
  {
   "cell_type": "code",
   "execution_count": 21,
   "metadata": {},
   "outputs": [
    {
     "ename": "TypeError",
     "evalue": "createname() takes 1 positional argument but 2 were given",
     "output_type": "error",
     "traceback": [
      "\u001b[1;31m---------------------------------------------------------------------------\u001b[0m",
      "\u001b[1;31mTypeError\u001b[0m                                 Traceback (most recent call last)",
      "\u001b[1;32m<ipython-input-21-dac80d3b56b5>\u001b[0m in \u001b[0;36m<module>\u001b[1;34m\u001b[0m\n\u001b[0;32m      1\u001b[0m \u001b[0myobj\u001b[0m \u001b[1;33m=\u001b[0m \u001b[0mUserclass1\u001b[0m\u001b[1;33m(\u001b[0m\u001b[1;33m)\u001b[0m\u001b[1;33m\u001b[0m\u001b[1;33m\u001b[0m\u001b[0m\n\u001b[1;32m----> 2\u001b[1;33m \u001b[0myobj\u001b[0m\u001b[1;33m.\u001b[0m\u001b[0mcreatename\u001b[0m\u001b[1;33m(\u001b[0m\u001b[1;34m'akanksha'\u001b[0m\u001b[1;33m)\u001b[0m\u001b[1;33m\u001b[0m\u001b[1;33m\u001b[0m\u001b[0m\n\u001b[0m\u001b[0;32m      3\u001b[0m \u001b[0myobj\u001b[0m\u001b[1;33m.\u001b[0m\u001b[0mdisplayname\u001b[0m\u001b[1;33m(\u001b[0m\u001b[1;33m)\u001b[0m\u001b[1;33m\u001b[0m\u001b[1;33m\u001b[0m\u001b[0m\n",
      "\u001b[1;31mTypeError\u001b[0m: createname() takes 1 positional argument but 2 were given"
     ]
    }
   ],
   "source": [
    "yobj = Userclass1()                                     # object creation and object assignment\n",
    "yobj.createname('akanksha')                             # object initialization/argument declaration\n",
    "yobj.displayname()"
   ]
  },
  {
   "cell_type": "code",
   "execution_count": 22,
   "metadata": {},
   "outputs": [],
   "source": [
    "# Once an object is made, it replaces the self temporary placeholder\n",
    "# self.name = name is replaced by xobj.name = 'akanksha'\n",
    "\n",
    "# We can create more objects and all the objects will be the blueprint of the class"
   ]
  },
  {
   "cell_type": "code",
   "execution_count": 23,
   "metadata": {},
   "outputs": [],
   "source": [
    "# Object Oriented Programming!\n",
    "# The term got evolved because after creating object, we use it to perform any action (by calling the class methods).\n",
    "# So object is the key, a blue print of the class therefore object oriented programming"
   ]
  },
  {
   "cell_type": "code",
   "execution_count": 24,
   "metadata": {},
   "outputs": [
    {
     "name": "stdout",
     "output_type": "stream",
     "text": [
      "Janani\n"
     ]
    }
   ],
   "source": [
    "a=Userclass()\n",
    "a.createname('janani')\n",
    "a.displayname()"
   ]
  },
  {
   "cell_type": "code",
   "execution_count": 25,
   "metadata": {},
   "outputs": [
    {
     "name": "stdout",
     "output_type": "stream",
     "text": [
      "Hello, janani!\n"
     ]
    }
   ],
   "source": [
    "a.greetname()"
   ]
  },
  {
   "cell_type": "code",
   "execution_count": null,
   "metadata": {},
   "outputs": [],
   "source": []
  }
 ],
 "metadata": {
  "kernelspec": {
   "display_name": "Python 3",
   "language": "python",
   "name": "python3"
  },
  "language_info": {
   "codemirror_mode": {
    "name": "ipython",
    "version": 3
   },
   "file_extension": ".py",
   "mimetype": "text/x-python",
   "name": "python",
   "nbconvert_exporter": "python",
   "pygments_lexer": "ipython3",
   "version": "3.7.6"
  }
 },
 "nbformat": 4,
 "nbformat_minor": 4
}
