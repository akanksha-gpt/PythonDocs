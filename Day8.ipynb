{
 "cells": [
  {
   "cell_type": "code",
   "execution_count": 1,
   "metadata": {},
   "outputs": [],
   "source": [
    "#Continuation on Dictionaries"
   ]
  },
  {
   "cell_type": "code",
   "execution_count": 12,
   "metadata": {},
   "outputs": [
    {
     "name": "stdout",
     "output_type": "stream",
     "text": [
      "{'color': 'green', 'points': 5, 'start_position': 0, 'current_position': 10}\n"
     ]
    }
   ],
   "source": [
    "alien={'color':'green','points':5,'start_position':0,'current_position':10}\n",
    "print(alien)"
   ]
  },
  {
   "cell_type": "code",
   "execution_count": 3,
   "metadata": {},
   "outputs": [],
   "source": [
    "#Req1: I've cleared level1 in alien game and i'm on level2. \n",
    "#Now the color of alien has changed from green to yellow and points from 5 to 10.\n",
    "#Modify the game as per it. So this is the case of modifying Dictionary."
   ]
  },
  {
   "cell_type": "code",
   "execution_count": 13,
   "metadata": {},
   "outputs": [
    {
     "name": "stdout",
     "output_type": "stream",
     "text": [
      "{'color': 'yellow', 'points': 10, 'start_position': 0, 'current_position': 10}\n"
     ]
    }
   ],
   "source": [
    "alien['color']='yellow'\n",
    "alien['points']=10\n",
    "print(alien)"
   ]
  },
  {
   "cell_type": "code",
   "execution_count": 14,
   "metadata": {},
   "outputs": [
    {
     "name": "stdout",
     "output_type": "stream",
     "text": [
      "{'color': 'yellow', 'points': 10, 'current_position': 10}\n"
     ]
    }
   ],
   "source": [
    "# Deleting key-value pairs from a dictionary\n",
    "del alien['start_position']\n",
    "print(alien)"
   ]
  },
  {
   "cell_type": "code",
   "execution_count": 15,
   "metadata": {},
   "outputs": [],
   "source": [
    "#Looping with Dictionaries"
   ]
  },
  {
   "cell_type": "code",
   "execution_count": 16,
   "metadata": {},
   "outputs": [
    {
     "name": "stdout",
     "output_type": "stream",
     "text": [
      "{'samreen': 'python', 'ram': 'c', 'suresh': 'science', 'janani': 'english', 'sajid': 'python', 'peter': 'cobol'}\n"
     ]
    }
   ],
   "source": [
    "fav_language={'samreen':'python','ram':'c','suresh':'science','janani':'english','sajid':'python','peter':'cobol'}\n",
    "print(fav_language)"
   ]
  },
  {
   "cell_type": "code",
   "execution_count": 17,
   "metadata": {},
   "outputs": [],
   "source": [
    "# Normal syntax for for loop\n",
    "#for tempvar in mainvar:\n",
    "#    print(tempvar)"
   ]
  },
  {
   "cell_type": "code",
   "execution_count": 18,
   "metadata": {},
   "outputs": [],
   "source": [
    "#Syntax with Dictionaries :\n",
    "#for temp1,temp2 in mainvar.items():\n",
    "#    print(temp1)\n",
    "#    print(temp2)"
   ]
  },
  {
   "cell_type": "code",
   "execution_count": 20,
   "metadata": {},
   "outputs": [
    {
     "name": "stdout",
     "output_type": "stream",
     "text": [
      "key : samreen\n",
      "value : python\n",
      "key : ram\n",
      "value : c\n",
      "key : suresh\n",
      "value : science\n",
      "key : janani\n",
      "value : english\n",
      "key : sajid\n",
      "value : python\n",
      "key : peter\n",
      "value : cobol\n"
     ]
    }
   ],
   "source": [
    "for x,y in fav_language.items():\n",
    "    print(f\"key : {x}\")\n",
    "    print(f\"value : {y}\")"
   ]
  },
  {
   "cell_type": "code",
   "execution_count": 21,
   "metadata": {},
   "outputs": [
    {
     "name": "stdout",
     "output_type": "stream",
     "text": [
      "key : samreen\n",
      "value : python\n",
      "\n",
      "key : ram\n",
      "value : c\n",
      "\n",
      "key : suresh\n",
      "value : science\n",
      "\n",
      "key : janani\n",
      "value : english\n",
      "\n",
      "key : sajid\n",
      "value : python\n",
      "\n",
      "key : peter\n",
      "value : cobol\n",
      "\n"
     ]
    }
   ],
   "source": [
    "# with formatting\n",
    "for x,y in fav_language.items():\n",
    "    print(f\"key : {x}\")\n",
    "    print(f\"value : {y}\\n\")"
   ]
  },
  {
   "cell_type": "code",
   "execution_count": 27,
   "metadata": {},
   "outputs": [],
   "source": [
    "# Req2 : I have conducted a survey where students told the languages they are interested in.\n",
    "# I want to know the students who gave survey\n",
    "# I want to know the student's choices of languages "
   ]
  },
  {
   "cell_type": "code",
   "execution_count": 25,
   "metadata": {},
   "outputs": [
    {
     "name": "stdout",
     "output_type": "stream",
     "text": [
      "students : samreen\n",
      "students : ram\n",
      "students : suresh\n",
      "students : janani\n",
      "students : sajid\n",
      "students : peter\n"
     ]
    }
   ],
   "source": [
    "for x in fav_language.keys():\n",
    "    print(f\"students : {x}\")"
   ]
  },
  {
   "cell_type": "code",
   "execution_count": 26,
   "metadata": {},
   "outputs": [
    {
     "name": "stdout",
     "output_type": "stream",
     "text": [
      "choices : python\n",
      "choices : c\n",
      "choices : science\n",
      "choices : english\n",
      "choices : python\n",
      "choices : cobol\n"
     ]
    }
   ],
   "source": [
    "for y in fav_language.values():\n",
    "    print(f\"choices : {y}\")"
   ]
  },
  {
   "cell_type": "code",
   "execution_count": null,
   "metadata": {},
   "outputs": [],
   "source": []
  }
 ],
 "metadata": {
  "kernelspec": {
   "display_name": "Python 3",
   "language": "python",
   "name": "python3"
  },
  "language_info": {
   "codemirror_mode": {
    "name": "ipython",
    "version": 3
   },
   "file_extension": ".py",
   "mimetype": "text/x-python",
   "name": "python",
   "nbconvert_exporter": "python",
   "pygments_lexer": "ipython3",
   "version": "3.7.6"
  }
 },
 "nbformat": 4,
 "nbformat_minor": 4
}
