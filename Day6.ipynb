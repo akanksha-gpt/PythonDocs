{
 "cells": [
  {
   "cell_type": "code",
   "execution_count": 1,
   "metadata": {},
   "outputs": [],
   "source": [
    "# if else condition"
   ]
  },
  {
   "cell_type": "code",
   "execution_count": 2,
   "metadata": {},
   "outputs": [
    {
     "name": "stdout",
     "output_type": "stream",
     "text": [
      "None\n"
     ]
    }
   ],
   "source": [
    "# Req1 : if name is vandana, print it in uppercase, rest all names in title case\n",
    "students = ['vandana','anjali','harish','kartika','naveen','ram','samia','suresh',]\n",
    "print(students.sort())"
   ]
  },
  {
   "cell_type": "code",
   "execution_count": 3,
   "metadata": {},
   "outputs": [
    {
     "name": "stdout",
     "output_type": "stream",
     "text": [
      "['anjali', 'harish', 'kartika', 'naveen', 'ram', 'samia', 'suresh', 'vandana']\n"
     ]
    }
   ],
   "source": [
    "print(students)"
   ]
  },
  {
   "cell_type": "code",
   "execution_count": 4,
   "metadata": {},
   "outputs": [
    {
     "name": "stdout",
     "output_type": "stream",
     "text": [
      "Anjali\n",
      "Harish\n",
      "Kartika\n",
      "Naveen\n",
      "Ram\n",
      "Samia\n",
      "Suresh\n",
      "VANDANA\n"
     ]
    }
   ],
   "source": [
    "for x in students :\n",
    "    if x=='vandana':\n",
    "        print(x.upper())\n",
    "    else:\n",
    "        print(x.title())"
   ]
  },
  {
   "cell_type": "code",
   "execution_count": 5,
   "metadata": {},
   "outputs": [],
   "source": [
    "# Slicing the Lists\n",
    "# Syntax : variable[startvalue:stopvalue:stepcount] where stopvalue is excluded"
   ]
  },
  {
   "cell_type": "code",
   "execution_count": 7,
   "metadata": {},
   "outputs": [
    {
     "name": "stdout",
     "output_type": "stream",
     "text": [
      "anjali\n"
     ]
    }
   ],
   "source": [
    "# Req2 : want every alternate student from the list\n",
    "print(students[0])"
   ]
  },
  {
   "cell_type": "code",
   "execution_count": 8,
   "metadata": {},
   "outputs": [
    {
     "name": "stdout",
     "output_type": "stream",
     "text": [
      "harish\n"
     ]
    }
   ],
   "source": [
    "print(students[1])"
   ]
  },
  {
   "cell_type": "code",
   "execution_count": 9,
   "metadata": {},
   "outputs": [
    {
     "name": "stdout",
     "output_type": "stream",
     "text": [
      "kartika\n"
     ]
    }
   ],
   "source": [
    "print(students[2])"
   ]
  },
  {
   "cell_type": "code",
   "execution_count": 10,
   "metadata": {},
   "outputs": [
    {
     "name": "stdout",
     "output_type": "stream",
     "text": [
      "['anjali']\n"
     ]
    }
   ],
   "source": [
    "print(students[0:1])"
   ]
  },
  {
   "cell_type": "code",
   "execution_count": 11,
   "metadata": {},
   "outputs": [
    {
     "name": "stdout",
     "output_type": "stream",
     "text": [
      "['anjali', 'harish']\n"
     ]
    }
   ],
   "source": [
    "print(students[0:2])"
   ]
  },
  {
   "cell_type": "code",
   "execution_count": 12,
   "metadata": {},
   "outputs": [
    {
     "name": "stdout",
     "output_type": "stream",
     "text": [
      "['kartika', 'naveen']\n"
     ]
    }
   ],
   "source": [
    "print(students[2:4])"
   ]
  },
  {
   "cell_type": "code",
   "execution_count": 13,
   "metadata": {},
   "outputs": [
    {
     "name": "stdout",
     "output_type": "stream",
     "text": [
      "['ram', 'samia']\n"
     ]
    }
   ],
   "source": [
    "print(students[4:6])"
   ]
  },
  {
   "cell_type": "code",
   "execution_count": 14,
   "metadata": {},
   "outputs": [
    {
     "name": "stdout",
     "output_type": "stream",
     "text": [
      "['suresh', 'vandana']\n"
     ]
    }
   ],
   "source": [
    "print(students[6:8])\n",
    "# 8 index is not present in the list, still slicing take it since stopvalue is excluded"
   ]
  },
  {
   "cell_type": "code",
   "execution_count": 15,
   "metadata": {},
   "outputs": [
    {
     "name": "stdout",
     "output_type": "stream",
     "text": [
      "['anjali', 'kartika', 'ram', 'suresh']\n"
     ]
    }
   ],
   "source": [
    "# printing alternate students\n",
    "print(students[0:8:2])"
   ]
  },
  {
   "cell_type": "code",
   "execution_count": 16,
   "metadata": {},
   "outputs": [
    {
     "name": "stdout",
     "output_type": "stream",
     "text": [
      "['anjali', 'naveen', 'suresh']\n"
     ]
    }
   ],
   "source": [
    "# printing every 3rd student\n",
    "print(students[0:8:3])"
   ]
  },
  {
   "cell_type": "code",
   "execution_count": 17,
   "metadata": {},
   "outputs": [
    {
     "name": "stdout",
     "output_type": "stream",
     "text": [
      "vandana\n"
     ]
    }
   ],
   "source": [
    "# Question : Reverse the list using slicing\n",
    "# -1 print first value from last, -2 print 2nd value from last and so on\n",
    "print(students[-1])"
   ]
  },
  {
   "cell_type": "code",
   "execution_count": 18,
   "metadata": {},
   "outputs": [
    {
     "name": "stdout",
     "output_type": "stream",
     "text": [
      "suresh\n"
     ]
    }
   ],
   "source": [
    "print(students[-2])"
   ]
  },
  {
   "cell_type": "code",
   "execution_count": 19,
   "metadata": {},
   "outputs": [
    {
     "name": "stdout",
     "output_type": "stream",
     "text": [
      "['vandana', 'suresh', 'samia', 'ram', 'naveen', 'kartika', 'harish', 'anjali']\n"
     ]
    }
   ],
   "source": [
    "print(students[: : -1])"
   ]
  },
  {
   "cell_type": "code",
   "execution_count": 20,
   "metadata": {},
   "outputs": [
    {
     "name": "stdout",
     "output_type": "stream",
     "text": [
      "['vandana', 'suresh', 'samia', 'ram', 'naveen', 'kartika', 'harish', 'anjali']\n"
     ]
    }
   ],
   "source": [
    "print(students[::-1])"
   ]
  },
  {
   "cell_type": "code",
   "execution_count": null,
   "metadata": {},
   "outputs": [],
   "source": []
  }
 ],
 "metadata": {
  "kernelspec": {
   "display_name": "Python 3",
   "language": "python",
   "name": "python3"
  },
  "language_info": {
   "codemirror_mode": {
    "name": "ipython",
    "version": 3
   },
   "file_extension": ".py",
   "mimetype": "text/x-python",
   "name": "python",
   "nbconvert_exporter": "python",
   "pygments_lexer": "ipython3",
   "version": "3.7.6"
  }
 },
 "nbformat": 4,
 "nbformat_minor": 4
}
