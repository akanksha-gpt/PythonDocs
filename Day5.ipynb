{
 "cells": [
  {
   "cell_type": "code",
   "execution_count": 1,
   "metadata": {},
   "outputs": [],
   "source": [
    "# introduction to looping statements (for loop)"
   ]
  },
  {
   "cell_type": "code",
   "execution_count": 2,
   "metadata": {},
   "outputs": [],
   "source": [
    "bank_customers=['naveen','papi','ram','karthik','samia','surya','vandana','anushka']"
   ]
  },
  {
   "cell_type": "code",
   "execution_count": 3,
   "metadata": {},
   "outputs": [
    {
     "name": "stdout",
     "output_type": "stream",
     "text": [
      "Wish you a very Happy New Year, naveen\n"
     ]
    }
   ],
   "source": [
    "# Requirement : Greet all the customers in the ban on New Year\n",
    "print(f\"Wish you a very Happy New Year, {bank_customers[0]}\")"
   ]
  },
  {
   "cell_type": "code",
   "execution_count": 4,
   "metadata": {},
   "outputs": [
    {
     "name": "stdout",
     "output_type": "stream",
     "text": [
      "Wish you a very Happy New Year, naveen\n",
      "Wish you a very Happy New Year, papi\n",
      "Wish you a very Happy New Year, ram\n",
      "Wish you a very Happy New Year, karthik\n",
      "Wish you a very Happy New Year, samia\n",
      "Wish you a very Happy New Year, surya\n",
      "Wish you a very Happy New Year, vandana\n",
      "Wish you a very Happy New Year, anushka\n"
     ]
    }
   ],
   "source": [
    "# Greet all customors in 1 go\n",
    "for customer in bank_customers:\n",
    "    print(f\"Wish you a very Happy New Year, {customer}\")"
   ]
  },
  {
   "cell_type": "code",
   "execution_count": 5,
   "metadata": {},
   "outputs": [
    {
     "name": "stdout",
     "output_type": "stream",
     "text": [
      "Wish you a very Happy New Year, Naveen\n",
      "Wish you a very Happy New Year, Papi\n",
      "Wish you a very Happy New Year, Ram\n",
      "Wish you a very Happy New Year, Karthik\n",
      "Wish you a very Happy New Year, Samia\n",
      "Wish you a very Happy New Year, Surya\n",
      "Wish you a very Happy New Year, Vandana\n",
      "Wish you a very Happy New Year, Anushka\n"
     ]
    }
   ],
   "source": [
    "for customer in bank_customers:\n",
    "    print(f\"Wish you a very Happy New Year, {customer.title()}\")"
   ]
  },
  {
   "cell_type": "code",
   "execution_count": 7,
   "metadata": {},
   "outputs": [
    {
     "name": "stdout",
     "output_type": "stream",
     "text": [
      "Keep up the good work, Suman\n",
      "Keep up the good work, Ravi\n",
      "Keep up the good work, John\n",
      "Keep up the good work, Keerthi\n",
      "Keep up the good work, Yameen\n",
      "Keep up the good work, Praveen\n",
      "Keep up the good work, Sajid\n"
     ]
    }
   ],
   "source": [
    "# Requirement : Appreciate students for their good work\n",
    "students=['suman','ravi','john','keerthi','yameen','praveen','sajid']\n",
    "for x in students:\n",
    "    print(f\"Keep up the good work, {x.title()}\")"
   ]
  },
  {
   "cell_type": "code",
   "execution_count": 8,
   "metadata": {},
   "outputs": [
    {
     "name": "stdout",
     "output_type": "stream",
     "text": [
      "Keep up the good work, Suman\n",
      "I will be looking forward to receive all your practice files today.\n",
      "Keep up the good work, Ravi\n",
      "I will be looking forward to receive all your practice files today.\n",
      "Keep up the good work, John\n",
      "I will be looking forward to receive all your practice files today.\n",
      "Keep up the good work, Keerthi\n",
      "I will be looking forward to receive all your practice files today.\n",
      "Keep up the good work, Yameen\n",
      "I will be looking forward to receive all your practice files today.\n",
      "Keep up the good work, Praveen\n",
      "I will be looking forward to receive all your practice files today.\n",
      "Keep up the good work, Sajid\n",
      "I will be looking forward to receive all your practice files today.\n"
     ]
    }
   ],
   "source": [
    "for x in students:\n",
    "    print(f\"Keep up the good work, {x.title()}\")\n",
    "    print('I will be looking forward to receive all your practice files today.')"
   ]
  },
  {
   "cell_type": "code",
   "execution_count": 10,
   "metadata": {},
   "outputs": [
    {
     "name": "stdout",
     "output_type": "stream",
     "text": [
      "Keep up the good work, Suman\n",
      "I will be looking forward to receive all your practice files today, Suman, \n",
      "\n",
      "Keep up the good work, Ravi\n",
      "I will be looking forward to receive all your practice files today, Ravi, \n",
      "\n",
      "Keep up the good work, John\n",
      "I will be looking forward to receive all your practice files today, John, \n",
      "\n",
      "Keep up the good work, Keerthi\n",
      "I will be looking forward to receive all your practice files today, Keerthi, \n",
      "\n",
      "Keep up the good work, Yameen\n",
      "I will be looking forward to receive all your practice files today, Yameen, \n",
      "\n",
      "Keep up the good work, Praveen\n",
      "I will be looking forward to receive all your practice files today, Praveen, \n",
      "\n",
      "Keep up the good work, Sajid\n",
      "I will be looking forward to receive all your practice files today, Sajid, \n",
      "\n"
     ]
    }
   ],
   "source": [
    "# More clarity required\n",
    "for x in students:\n",
    "    print(f\"Keep up the good work, {x.title()}\")\n",
    "    print(f\"I will be looking forward to receive all your practice files today, {x.title()}, \\n\")"
   ]
  },
  {
   "cell_type": "code",
   "execution_count": 12,
   "metadata": {},
   "outputs": [
    {
     "name": "stdout",
     "output_type": "stream",
     "text": [
      "Keep up the good work, Suman\n",
      "I will be looking forward to receive all your practice files today, Suman, \n",
      "\n",
      "Keep up the good work, Ravi\n",
      "I will be looking forward to receive all your practice files today, Ravi, \n",
      "\n",
      "Keep up the good work, John\n",
      "I will be looking forward to receive all your practice files today, John, \n",
      "\n",
      "Keep up the good work, Keerthi\n",
      "I will be looking forward to receive all your practice files today, Keerthi, \n",
      "\n",
      "Keep up the good work, Yameen\n",
      "I will be looking forward to receive all your practice files today, Yameen, \n",
      "\n",
      "Keep up the good work, Praveen\n",
      "I will be looking forward to receive all your practice files today, Praveen, \n",
      "\n",
      "Keep up the good work, Sajid\n",
      "I will be looking forward to receive all your practice files today, Sajid, \n",
      "\n",
      "Thank you all for showing interest in learning Python\n"
     ]
    }
   ],
   "source": [
    "for x in students:\n",
    "    print(f\"Keep up the good work, {x.title()}\")\n",
    "    print(f\"I will be looking forward to receive all your practice files today, {x.title()}, \\n\")\n",
    "print('Thank you all for showing interest in learning Python')"
   ]
  },
  {
   "cell_type": "code",
   "execution_count": 14,
   "metadata": {},
   "outputs": [],
   "source": [
    "# Question : Sorted vs Sort\n",
    "# There are 2 ways or organizing a list: \n",
    "# 1) temporary(where original order can be retrieved) - using sorted\n",
    "# 2) permanent(where original order can't be retrieved) - using sort"
   ]
  },
  {
   "cell_type": "code",
   "execution_count": 15,
   "metadata": {},
   "outputs": [
    {
     "name": "stdout",
     "output_type": "stream",
     "text": [
      "['suman', 'ravi', 'john', 'keerthi', 'yameen', 'praveen', 'sajid']\n"
     ]
    }
   ],
   "source": [
    "print(students)"
   ]
  },
  {
   "cell_type": "code",
   "execution_count": 16,
   "metadata": {},
   "outputs": [
    {
     "name": "stdout",
     "output_type": "stream",
     "text": [
      "['john', 'keerthi', 'praveen', 'ravi', 'sajid', 'suman', 'yameen']\n"
     ]
    }
   ],
   "source": [
    "print(sorted(students))"
   ]
  },
  {
   "cell_type": "code",
   "execution_count": 17,
   "metadata": {},
   "outputs": [
    {
     "name": "stdout",
     "output_type": "stream",
     "text": [
      "['suman', 'ravi', 'john', 'keerthi', 'yameen', 'praveen', 'sajid']\n"
     ]
    }
   ],
   "source": [
    "print(students)"
   ]
  },
  {
   "cell_type": "code",
   "execution_count": 21,
   "metadata": {},
   "outputs": [],
   "source": [
    "students.sort()"
   ]
  },
  {
   "cell_type": "code",
   "execution_count": 22,
   "metadata": {},
   "outputs": [
    {
     "name": "stdout",
     "output_type": "stream",
     "text": [
      "['john', 'keerthi', 'praveen', 'ravi', 'sajid', 'suman', 'yameen']\n"
     ]
    }
   ],
   "source": [
    "print(students)"
   ]
  },
  {
   "cell_type": "code",
   "execution_count": null,
   "metadata": {},
   "outputs": [],
   "source": []
  }
 ],
 "metadata": {
  "kernelspec": {
   "display_name": "Python 3",
   "language": "python",
   "name": "python3"
  },
  "language_info": {
   "codemirror_mode": {
    "name": "ipython",
    "version": 3
   },
   "file_extension": ".py",
   "mimetype": "text/x-python",
   "name": "python",
   "nbconvert_exporter": "python",
   "pygments_lexer": "ipython3",
   "version": "3.7.6"
  }
 },
 "nbformat": 4,
 "nbformat_minor": 4
}
