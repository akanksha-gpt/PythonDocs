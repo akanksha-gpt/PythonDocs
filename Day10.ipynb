{
 "cells": [
  {
   "cell_type": "code",
   "execution_count": 1,
   "metadata": {},
   "outputs": [],
   "source": [
    "# Introduction to while loop\n",
    "# while loop validates certain condition to implement"
   ]
  },
  {
   "cell_type": "code",
   "execution_count": 2,
   "metadata": {},
   "outputs": [
    {
     "name": "stdout",
     "output_type": "stream",
     "text": [
      "1\n",
      "2\n",
      "3\n",
      "4\n"
     ]
    }
   ],
   "source": [
    "current_num=1\n",
    "while current_num<5:\n",
    "    print(current_num)\n",
    "    current_num+=1"
   ]
  },
  {
   "cell_type": "code",
   "execution_count": 3,
   "metadata": {},
   "outputs": [
    {
     "name": "stdout",
     "output_type": "stream",
     "text": [
      "1\n",
      "3\n",
      "5\n",
      "7\n",
      "9\n"
     ]
    }
   ],
   "source": [
    "current_num=1\n",
    "while current_num<10:\n",
    "    print(current_num)\n",
    "    current_num+=2"
   ]
  },
  {
   "cell_type": "code",
   "execution_count": 4,
   "metadata": {},
   "outputs": [],
   "source": [
    "# Letting the user choose when to quit"
   ]
  },
  {
   "cell_type": "code",
   "execution_count": 1,
   "metadata": {},
   "outputs": [
    {
     "name": "stdout",
     "output_type": "stream",
     "text": [
      "Tell me something and i'll repeat it back for you\n",
      "Enter 'quit' to end the program hello dear\n",
      "hello dear\n",
      "Tell me something and i'll repeat it back for you\n",
      "Enter 'quit' to end the program i want to quit\n",
      "i want to quit\n",
      "Tell me something and i'll repeat it back for you\n",
      "Enter 'quit' to end the program i will be quitting\n",
      "i will be quitting\n",
      "Tell me something and i'll repeat it back for you\n",
      "Enter 'quit' to end the program quit\n",
      "quit\n"
     ]
    }
   ],
   "source": [
    "promptt=\"Tell me something and i'll repeat it back for you\"\n",
    "promptt+=\"\\nEnter 'quit' to end the program \"\n",
    "message=\"\"\n",
    "while message!='quit':\n",
    "    message=input(promptt)\n",
    "    print(message)"
   ]
  },
  {
   "cell_type": "code",
   "execution_count": 2,
   "metadata": {},
   "outputs": [],
   "source": [
    "# it will keep on showing same message until your system has memory and until you don't enter 'quit'"
   ]
  },
  {
   "cell_type": "code",
   "execution_count": 3,
   "metadata": {},
   "outputs": [],
   "source": [
    "# qstn : Differnce b/w for loop and while loop\n",
    "# for loop : will be implemented for each and every element in the list\n",
    "#while loop : will be implemented only if the condition holds true"
   ]
  },
  {
   "cell_type": "code",
   "execution_count": null,
   "metadata": {},
   "outputs": [],
   "source": []
  },
  {
   "cell_type": "code",
   "execution_count": null,
   "metadata": {},
   "outputs": [],
   "source": []
  },
  {
   "cell_type": "code",
   "execution_count": null,
   "metadata": {},
   "outputs": [],
   "source": []
  },
  {
   "cell_type": "code",
   "execution_count": null,
   "metadata": {},
   "outputs": [],
   "source": []
  }
 ],
 "metadata": {
  "kernelspec": {
   "display_name": "Python 3",
   "language": "python",
   "name": "python3"
  },
  "language_info": {
   "codemirror_mode": {
    "name": "ipython",
    "version": 3
   },
   "file_extension": ".py",
   "mimetype": "text/x-python",
   "name": "python",
   "nbconvert_exporter": "python",
   "pygments_lexer": "ipython3",
   "version": "3.7.6"
  }
 },
 "nbformat": 4,
 "nbformat_minor": 4
}
